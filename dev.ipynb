{
 "cells": [
  {
   "cell_type": "code",
   "execution_count": 1,
   "metadata": {},
   "outputs": [],
   "source": [
    "%load_ext autoreload\n",
    "%autoreload 2"
   ]
  },
  {
   "cell_type": "code",
   "execution_count": 3,
   "metadata": {},
   "outputs": [],
   "source": [
    "from src.chuichi_seifu import generate_seifu_problem\n",
    "from src.problem_system import problem_generator_dict"
   ]
  },
  {
   "cell_type": "code",
   "execution_count": 4,
   "metadata": {},
   "outputs": [],
   "source": [
    "generator=problem_generator_dict[\"seisu_seki\"]"
   ]
  },
  {
   "cell_type": "code",
   "execution_count": 15,
   "metadata": {},
   "outputs": [
    {
     "name": "stdout",
     "output_type": "stream",
     "text": [
      "問題:\n",
      "積が -9 となる 2 つの整数の組をすべて求めなさい｡ただし，数の並び順は考えないものとします。\n",
      "\n",
      "解答:\n",
      "積が -9 となる整数の組は次の通りです:\n",
      "(-9, -1), (-9, 1), (-3, -3), (-3, 3), (3, 3), (-1, 9), (1, 9)\n",
      "\n"
     ]
    }
   ],
   "source": [
    "\n",
    "\n",
    "# 問題と回答の表示\n",
    "t = generator()\n",
    "print(t)\n"
   ]
  },
  {
   "cell_type": "code",
   "execution_count": null,
   "metadata": {},
   "outputs": [
    {
     "data": {
      "text/plain": [
       "4.5"
      ]
     },
     "execution_count": 19,
     "metadata": {},
     "output_type": "execute_result"
    }
   ],
   "source": [
    "-1.6+6.1"
   ]
  },
  {
   "cell_type": "code",
   "execution_count": 46,
   "metadata": {},
   "outputs": [
    {
     "name": "stdout",
     "output_type": "stream",
     "text": [
      "問題:\n",
      "次のデータの平均値を求めなさい\n",
      "点数: 53, 92, 67, -30, -23\n",
      "\n",
      "解答:\n",
      "データの合計は 159 で、個数は 5 です。\n",
      "したがって、平均値は 159 / 5 = 31.80 です。\n",
      "\n"
     ]
    }
   ],
   "source": [
    "import random\n",
    "\n",
    "def generate_mean_problem_and_answer():\n",
    "    # ランダムに生成する数値の範囲と個数\n",
    "    num_numbers = random.randint(3, 10)  # 5から10個の数値を生成\n",
    "    min_value = -100  # 数値の最小値\n",
    "    max_value = 100  # 数値の最大値\n",
    "    \n",
    "    # ランダムな整数のリストを生成\n",
    "    numbers = [random.randint(min_value, max_value) for _ in range(num_numbers)]\n",
    "    \n",
    "    # 平均値の計算\n",
    "    mean_value = sum(numbers) / len(numbers)\n",
    "    \n",
    "    # 問題文の作成\n",
    "    problem_text = f\"問題:\\n次のデータの平均値を求めなさい\\n点数: {', '.join(map(str, numbers))}\"\n",
    "    \n",
    "    # 解答文の作成\n",
    "    answer_text = f\"\\n\\n解答:\\n\"\n",
    "    answer_text += f\"データの合計は {sum(numbers)} で、個数は {len(numbers)} です。\\n\"\n",
    "    answer_text += f\"したがって、平均値は {sum(numbers)} / {len(numbers)} = {mean_value:.2f} です。\\n\"\n",
    "\n",
    "    return problem_text + answer_text\n",
    "\n",
    "# 実行例\n",
    "print(generate_mean_problem_and_answer())\n"
   ]
  },
  {
   "cell_type": "code",
   "execution_count": null,
   "metadata": {},
   "outputs": [],
   "source": []
  },
  {
   "cell_type": "code",
   "execution_count": null,
   "metadata": {},
   "outputs": [],
   "source": []
  }
 ],
 "metadata": {
  "kernelspec": {
   "display_name": "llmeval",
   "language": "python",
   "name": "python3"
  },
  "language_info": {
   "codemirror_mode": {
    "name": "ipython",
    "version": 3
   },
   "file_extension": ".py",
   "mimetype": "text/x-python",
   "name": "python",
   "nbconvert_exporter": "python",
   "pygments_lexer": "ipython3",
   "version": "3.11.8"
  }
 },
 "nbformat": 4,
 "nbformat_minor": 2
}
